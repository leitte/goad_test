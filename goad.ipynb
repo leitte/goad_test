{
 "cells": [
  {
   "cell_type": "code",
   "execution_count": null,
   "id": "composite-karma",
   "metadata": {},
   "outputs": [],
   "source": [
    "import numpy as np\n",
    "from data_loader import Data_Loader\n",
    "import opt_tc_tabular as tc\n",
    "import argparse"
   ]
  },
  {
   "cell_type": "code",
   "execution_count": null,
   "id": "faced-syntax",
   "metadata": {},
   "outputs": [],
   "source": [
    "def load_trans_data(args):\n",
    "    dl = Data_Loader()\n",
    "    train_real, val_real, val_fake = dl.get_dataset(args.dataset, args.c_pr)\n",
    "    y_test_fscore = np.concatenate([np.zeros(len(val_real)), np.ones(len(val_fake))])\n",
    "    ratio = 100.0 * len(val_real) / (len(val_real) + len(val_fake))\n",
    "\n",
    "    n_train, n_dims = train_real.shape\n",
    "    rots = np.random.randn(args.n_rots, n_dims, args.d_out)\n",
    "\n",
    "    print('Calculating transforms')\n",
    "    x_train = np.stack([train_real.dot(rot) for rot in rots], 2)\n",
    "    val_real_xs = np.stack([val_real.dot(rot) for rot in rots], 2)\n",
    "    val_fake_xs = np.stack([val_fake.dot(rot) for rot in rots], 2)\n",
    "    x_test = np.concatenate([val_real_xs, val_fake_xs])\n",
    "    return x_train, x_test, y_test_fscore, ratio\n",
    "\n",
    "\n",
    "def train_anomaly_detector(args):\n",
    "    x_train, x_test, y_test, ratio = load_trans_data(args)\n",
    "    tc_obj = tc.TransClassifierTabular(args)\n",
    "    f_score = tc_obj.fit_trans_classifier(x_train, x_test, y_test, ratio)\n",
    "    return f_score"
   ]
  },
  {
   "cell_type": "code",
   "execution_count": null,
   "id": "thirty-chess",
   "metadata": {},
   "outputs": [],
   "source": [
    "if __name__ == '__main__':\n",
    "    parser = argparse.ArgumentParser()\n",
    "    parser.add_argument('--lr', default=0.001, type=float)\n",
    "    parser.add_argument('--n_rots', default=32, type=int)\n",
    "    parser.add_argument('--batch_size', default=64, type=int)\n",
    "    parser.add_argument('--n_epoch', default=25, type=int)\n",
    "    parser.add_argument('--d_out', default=4, type=int)\n",
    "    parser.add_argument('--dataset', default='thyroid', type=str)\n",
    "    parser.add_argument('--exp', default='affine', type=str)\n",
    "    parser.add_argument('--c_pr', default=0, type=int)\n",
    "    parser.add_argument('--true_label', default=1, type=int)\n",
    "    parser.add_argument('--ndf', default=8, type=int)\n",
    "    parser.add_argument('--m', default=1, type=float)\n",
    "    parser.add_argument('--lmbda', default=0.1, type=float)\n",
    "    parser.add_argument('--eps', default=0, type=float)\n",
    "    parser.add_argument('--n_iters', default=500, type=int)\n",
    "\n",
    "    args = parser.parse_args()\n",
    "    print(\"Dataset: \", args.dataset)\n",
    "\n",
    "    if args.dataset == 'thyroid' or args.dataset == 'arrhythmia':\n",
    "        n_iters = args.n_iters\n",
    "        f_scores = np.zeros(n_iters)\n",
    "        for i in range(n_iters):\n",
    "            f_scores[i] = train_anomaly_detector(args)\n",
    "        print(\"AVG f1_score\", f_scores.mean())\n",
    "    else:\n",
    "        train_anomaly_detector(args)\n"
   ]
  }
 ],
 "metadata": {
  "kernelspec": {
   "display_name": "Python 3",
   "language": "python",
   "name": "python3"
  },
  "language_info": {
   "codemirror_mode": {
    "name": "ipython",
    "version": 3
   },
   "file_extension": ".py",
   "mimetype": "text/x-python",
   "name": "python",
   "nbconvert_exporter": "python",
   "pygments_lexer": "ipython3",
   "version": "3.7.3"
  }
 },
 "nbformat": 4,
 "nbformat_minor": 5
}
